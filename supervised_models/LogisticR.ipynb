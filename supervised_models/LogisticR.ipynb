{
 "cells": [
  {
   "cell_type": "markdown",
   "id": "372cb7d2",
   "metadata": {},
   "source": [
    "# Logistic Regression\n",
    "\n",
    "This notebook can be run from top to bottom after setting up the generated files as explained in the readme document at the project root directory.\n"
   ]
  },
  {
   "cell_type": "code",
   "execution_count": 1,
   "id": "b4942ef2",
   "metadata": {},
   "outputs": [
    {
     "ename": "ModuleNotFoundError",
     "evalue": "No module named 'supervised_models'",
     "output_type": "error",
     "traceback": [
      "\u001b[1;31m---------------------------------------------------------------------------\u001b[0m",
      "\u001b[1;31mModuleNotFoundError\u001b[0m                       Traceback (most recent call last)",
      "Input \u001b[1;32mIn [1]\u001b[0m, in \u001b[0;36m<cell line: 11>\u001b[1;34m()\u001b[0m\n\u001b[0;32m      9\u001b[0m \u001b[38;5;28;01mimport\u001b[39;00m \u001b[38;5;21;01mpandas\u001b[39;00m \u001b[38;5;28;01mas\u001b[39;00m \u001b[38;5;21;01mpd\u001b[39;00m\n\u001b[0;32m     10\u001b[0m \u001b[38;5;28;01mfrom\u001b[39;00m \u001b[38;5;21;01msklearn\u001b[39;00m\u001b[38;5;21;01m.\u001b[39;00m\u001b[38;5;21;01mlinear_model\u001b[39;00m \u001b[38;5;28;01mimport\u001b[39;00m LogisticRegression\n\u001b[1;32m---> 11\u001b[0m \u001b[38;5;28;01mfrom\u001b[39;00m \u001b[38;5;21;01mutils\u001b[39;00m \u001b[38;5;28;01mimport\u001b[39;00m create_inf_sents, featurize_X_from_text, featurize_embed_from_df\n",
      "File \u001b[1;32m~\\Documents\\cs6120\\project\\code_2\\supervised_models\\utils.py:1\u001b[0m, in \u001b[0;36m<module>\u001b[1;34m\u001b[0m\n\u001b[1;32m----> 1\u001b[0m \u001b[38;5;28;01mfrom\u001b[39;00m \u001b[38;5;21;01msupervised_models\u001b[39;00m \u001b[38;5;28;01mimport\u001b[39;00m train_embeddings_bbc, preprocessing_bbc\n\u001b[0;32m      2\u001b[0m \u001b[38;5;28;01mimport\u001b[39;00m \u001b[38;5;21;01mnumpy\u001b[39;00m \u001b[38;5;28;01mas\u001b[39;00m \u001b[38;5;21;01mnp\u001b[39;00m\n\u001b[0;32m      3\u001b[0m \u001b[38;5;28;01mfrom\u001b[39;00m \u001b[38;5;21;01mnltk\u001b[39;00m\u001b[38;5;21;01m.\u001b[39;00m\u001b[38;5;21;01mtokenize\u001b[39;00m \u001b[38;5;28;01mimport\u001b[39;00m sent_tokenize\n",
      "\u001b[1;31mModuleNotFoundError\u001b[0m: No module named 'supervised_models'"
     ]
    }
   ],
   "source": [
    "import numpy as np\n",
    "import os.path\n",
    "from gensim.models import KeyedVectors\n",
    "import time\n",
    "import string\n",
    "import train_embeddings_bbc\n",
    "import preprocessing_bbc\n",
    "import prepare_bbc_data\n",
    "import pandas as pd\n",
    "from sklearn.linear_model import LogisticRegression\n",
    "from utils import create_inf_sents, featurize_X_from_text, featurize_embed_from_df"
   ]
  },
  {
   "cell_type": "code",
   "execution_count": 6,
   "id": "5a79ec1e",
   "metadata": {},
   "outputs": [
    {
     "ename": "NameError",
     "evalue": "name 'preprocessing_bbc' is not defined",
     "output_type": "error",
     "traceback": [
      "\u001b[1;31m---------------------------------------------------------------------------\u001b[0m",
      "\u001b[1;31mNameError\u001b[0m                                 Traceback (most recent call last)",
      "Input \u001b[1;32mIn [6]\u001b[0m, in \u001b[0;36m<cell line: 2>\u001b[1;34m()\u001b[0m\n\u001b[0;32m      1\u001b[0m \u001b[38;5;66;03m# load preprocessed files\u001b[39;00m\n\u001b[1;32m----> 2\u001b[0m train_file \u001b[38;5;241m=\u001b[39m \u001b[43mpreprocessing_bbc\u001b[49m\u001b[38;5;241m.\u001b[39mcleaned_train_f\n\u001b[0;32m      3\u001b[0m test_file \u001b[38;5;241m=\u001b[39m preprocessing_bbc\u001b[38;5;241m.\u001b[39mcleaned_test_f\n\u001b[0;32m      4\u001b[0m val_file \u001b[38;5;241m=\u001b[39m preprocessing_bbc\u001b[38;5;241m.\u001b[39mcleaned_val_f\n",
      "\u001b[1;31mNameError\u001b[0m: name 'preprocessing_bbc' is not defined"
     ]
    }
   ],
   "source": [
    "# load preprocessed files\n",
    "train_file = preprocessing_bbc.cleaned_train_f\n",
    "test_file = preprocessing_bbc.cleaned_test_f\n",
    "val_file = preprocessing_bbc.cleaned_val_f\n",
    "\n",
    "wv_from_text = train_embeddings_bbc.load_embeddings(train_embeddings_bbc.embedding_file)\n",
    "\n",
    "train_data = pd.read_csv(train_file)\n",
    "test_data = pd.read_csv(test_file)\n",
    "val_data = pd.read_csv(val_file)"
   ]
  },
  {
   "cell_type": "code",
   "execution_count": 7,
   "id": "9cdf8fb8",
   "metadata": {},
   "outputs": [
    {
     "ename": "NameError",
     "evalue": "name 'train_embeddings_bbc' is not defined",
     "output_type": "error",
     "traceback": [
      "\u001b[1;31m---------------------------------------------------------------------------\u001b[0m",
      "\u001b[1;31mNameError\u001b[0m                                 Traceback (most recent call last)",
      "Input \u001b[1;32mIn [7]\u001b[0m, in \u001b[0;36m<cell line: 1>\u001b[1;34m()\u001b[0m\n\u001b[1;32m----> 1\u001b[0m EMBED_SIZE \u001b[38;5;241m=\u001b[39m \u001b[43mtrain_embeddings_bbc\u001b[49m\u001b[38;5;241m.\u001b[39mEMBEDDINGS_SIZE\n\u001b[0;32m      3\u001b[0m MAX_WORD_SIZE \u001b[38;5;241m=\u001b[39m preprocessing_bbc\u001b[38;5;241m.\u001b[39mMAX_THRESH\n",
      "\u001b[1;31mNameError\u001b[0m: name 'train_embeddings_bbc' is not defined"
     ]
    }
   ],
   "source": [
    "EMBED_SIZE = train_embeddings_bbc.EMBEDDINGS_SIZE\n",
    "\n",
    "MAX_WORD_SIZE = preprocessing_bbc.MAX_THRESH"
   ]
  },
  {
   "cell_type": "code",
   "execution_count": null,
   "id": "bfc4e4ad",
   "metadata": {},
   "outputs": [],
   "source": [
    "# initialize features with zeros\n",
    "train_X = np.zeros((len(train_data), (EMBED_SIZE * MAX_WORD_SIZE)))\n",
    "test_X = np.zeros((len(test_data), (EMBED_SIZE * MAX_WORD_SIZE)))\n",
    "val_X = np.zeros((len(val_data), (EMBED_SIZE * MAX_WORD_SIZE)))\n",
    "\n",
    "train_Y = np.zeros((len(train_data), 1))\n",
    "test_Y = np.zeros((len(test_data), 1))\n",
    "val_Y = np.zeros((len(val_data), 1))"
   ]
  },
  {
   "cell_type": "code",
   "execution_count": null,
   "id": "d8502db5",
   "metadata": {},
   "outputs": [],
   "source": [
    "# fill the features based on the learned embeddings\n",
    "featurize_embed_from_df(train_data, train_X, train_Y, wv_from_text)\n",
    "featurize_embed_from_df(test_data, test_X, test_Y, wv_from_text)\n",
    "featurize_embed_from_df(val_data, val_X, val_Y, wv_from_text)"
   ]
  },
  {
   "cell_type": "code",
   "execution_count": null,
   "id": "1280e331",
   "metadata": {},
   "outputs": [],
   "source": [
    "# not using validation data for hyperparameter tuning for linear models\n",
    "train_X = np.row_stack((train_X, val_X))\n",
    "train_Y = np.row_stack((train_Y, val_Y))\n",
    "\n",
    "print(\"Shape of train X:\")\n",
    "print(train_X.shape)\n",
    "print(\"Shape of train Y:\")\n",
    "print(train_Y.shape)\n",
    "\n",
    "print(\"Shape of test X:\")\n",
    "print(test_X.shape)\n",
    "print(\"Shape of test Y:\")\n",
    "print(test_Y.shape)"
   ]
  },
  {
   "cell_type": "code",
   "execution_count": null,
   "id": "4ea2288b",
   "metadata": {},
   "outputs": [],
   "source": [
    "logisticRegr = LogisticRegression(max_iter=10000)\n",
    "logisticRegr.fit(train_X.tolist(), np.ravel(train_Y))\n",
    "predictions = logisticRegr.predict(test_X.tolist())\n",
    "score = logisticRegr.score(test_X.tolist(), test_Y.tolist())"
   ]
  },
  {
   "cell_type": "code",
   "execution_count": null,
   "id": "2959bfd6",
   "metadata": {},
   "outputs": [],
   "source": [
    "print(\"\\nOverall accuracy: \" + str(round(score * 100, 2)) + \" %\")"
   ]
  },
  {
   "cell_type": "code",
   "execution_count": null,
   "id": "b37de93d",
   "metadata": {},
   "outputs": [],
   "source": [
    "# create summaries for the test set using the trained model.\n",
    "\n",
    "# original test data\n",
    "inf_file = prepare_bbc_data.out_test_file\n",
    "inf_df = pd.read_csv(inf_file)\n",
    "\n",
    "out_headers = {'article': [],\n",
    "               'original_summary': [],\n",
    "               'model_summary': [],\n",
    "              }\n",
    "\n",
    "# summaries generated from the model will be written to this file.\n",
    "out_file = 'logr_results.csv'\n",
    "out_df = pd.DataFrame(out_headers)\n",
    "\n",
    "inf_start = time.time()\n",
    "for i in range(len(inf_df)):\n",
    "    art_txt = inf_df.at[i, 'article'].strip()\n",
    "    # from raw article text, create sentences. \n",
    "    # prepped sent has the preprocessed sentence while orig_sent has the actual sentence\n",
    "    orig_sent, prepped_sent = create_inf_sents(art_txt)\n",
    "\n",
    "    summary = []\n",
    "    # loops to estimate if the sentence is a highlight or not \n",
    "    # If it is a highlight, appends the original sentence to the summary string.\n",
    "    for j, sent in enumerate(prepped_sent):\n",
    "        inf_X = featurize_X_from_text(sent, wv_from_text)\n",
    "        pred = logisticRegr.predict(inf_X)\n",
    "        if pred[0] == 1:\n",
    "            summary.append(orig_sent[j])\n",
    "    out_df.at[i, 'article'] = art_txt\n",
    "    out_df.at[i, 'original_summary'] = inf_df.at[i, 'summary'].strip()\n",
    "    if len(summary) == 0:\n",
    "        out_df.at[i, 'model_summary'] = \"__BLANK__\"\n",
    "    else:\n",
    "        out_df.at[i, 'model_summary'] = \" \".join(summary)\n",
    "\n",
    "out_df.to_csv(out_file, index=False)\n",
    "print(\"inference completed for the test set\\nTime taken: \" + str(time.time()-inf_start))"
   ]
  }
 ],
 "metadata": {
  "kernelspec": {
   "display_name": "Python 3 (ipykernel)",
   "language": "python",
   "name": "python3"
  },
  "language_info": {
   "codemirror_mode": {
    "name": "ipython",
    "version": 3
   },
   "file_extension": ".py",
   "mimetype": "text/x-python",
   "name": "python",
   "nbconvert_exporter": "python",
   "pygments_lexer": "ipython3",
   "version": "3.10.4"
  }
 },
 "nbformat": 4,
 "nbformat_minor": 5
}
