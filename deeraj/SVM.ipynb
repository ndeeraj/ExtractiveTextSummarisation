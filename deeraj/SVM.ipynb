{
 "cells": [
  {
   "cell_type": "code",
   "execution_count": 1,
   "id": "b4942ef2",
   "metadata": {},
   "outputs": [],
   "source": [
    "import numpy as np\n",
    "import os.path\n",
    "from gensim.models import KeyedVectors\n",
    "import time\n",
    "from gensim.models import Word2Vec\n",
    "import string\n",
    "import train_embeddings_bbc\n",
    "import preprocessing_bbc\n",
    "import prepare_bbc_data\n",
    "import pandas as pd\n",
    "from sklearn import svm\n",
    "from utils import create_inf_sents, featurize_X_from_text, featurize_embed_from_df"
   ]
  },
  {
   "cell_type": "code",
   "execution_count": 2,
   "id": "0752c6eb",
   "metadata": {},
   "outputs": [],
   "source": [
    "train_file = preprocessing_bbc.cleaned_train_f\n",
    "test_file = preprocessing_bbc.cleaned_test_f\n",
    "val_file = preprocessing_bbc.cleaned_val_f\n",
    "\n",
    "wv_model = train_embeddings_bbc.load_gensim(train_embeddings_bbc.model_file)\n",
    "wv_from_text = train_embeddings_bbc.load_embeddings(train_embeddings_bbc.embedding_file)"
   ]
  },
  {
   "cell_type": "code",
   "execution_count": 3,
   "id": "5a79ec1e",
   "metadata": {},
   "outputs": [],
   "source": [
    "train_data = pd.read_csv(train_file)\n",
    "test_data = pd.read_csv(test_file)\n",
    "val_data = pd.read_csv(val_file)"
   ]
  },
  {
   "cell_type": "code",
   "execution_count": 4,
   "id": "d6b98ae5",
   "metadata": {},
   "outputs": [],
   "source": [
    "EMBED_SIZE = train_embeddings_bbc.EMBEDDINGS_SIZE"
   ]
  },
  {
   "cell_type": "code",
   "execution_count": 5,
   "id": "9cdf8fb8",
   "metadata": {},
   "outputs": [],
   "source": [
    "MAX_WORD_SIZE = preprocessing_bbc.MAX_THRESH"
   ]
  },
  {
   "cell_type": "code",
   "execution_count": 6,
   "id": "bfc4e4ad",
   "metadata": {},
   "outputs": [],
   "source": [
    "train_X = np.zeros((len(train_data), (EMBED_SIZE * MAX_WORD_SIZE)))\n",
    "test_X = np.zeros((len(test_data), (EMBED_SIZE * MAX_WORD_SIZE)))\n",
    "val_X = np.zeros((len(val_data), (EMBED_SIZE * MAX_WORD_SIZE)))\n",
    "\n",
    "train_Y = np.zeros((len(train_data), 1))\n",
    "test_Y = np.zeros((len(test_data), 1))\n",
    "val_Y = np.zeros((len(val_data), 1))"
   ]
  },
  {
   "cell_type": "code",
   "execution_count": 7,
   "id": "b3829ddb",
   "metadata": {},
   "outputs": [
    {
     "name": "stdout",
     "output_type": "stream",
     "text": [
      "(32722, 3250)\n",
      "(3872, 3250)\n",
      "(4725, 3250)\n"
     ]
    }
   ],
   "source": [
    "print(train_X.shape)\n",
    "print(test_X.shape)\n",
    "print(val_X.shape)"
   ]
  },
  {
   "cell_type": "code",
   "execution_count": 8,
   "id": "af318ac6",
   "metadata": {},
   "outputs": [],
   "source": [
    "featurize_embed_from_df(train_data, train_X, train_Y, wv_from_text)\n",
    "featurize_embed_from_df(test_data, test_X, test_Y, wv_from_text)\n",
    "featurize_embed_from_df(val_data, val_X, val_Y, wv_from_text)"
   ]
  },
  {
   "cell_type": "code",
   "execution_count": 9,
   "id": "bf6b265d",
   "metadata": {},
   "outputs": [
    {
     "name": "stdout",
     "output_type": "stream",
     "text": [
      "(32722, 3250)\n",
      "(3872, 3250)\n",
      "(4725, 3250)\n",
      "(32722, 1)\n",
      "(3872, 1)\n",
      "(4725, 1)\n"
     ]
    }
   ],
   "source": [
    "print(train_X.shape)\n",
    "print(test_X.shape)\n",
    "print(val_X.shape)\n",
    "\n",
    "print(train_Y.shape)\n",
    "print(test_Y.shape)\n",
    "print(val_Y.shape)"
   ]
  },
  {
   "cell_type": "code",
   "execution_count": 10,
   "id": "ade4d353",
   "metadata": {},
   "outputs": [
    {
     "name": "stderr",
     "output_type": "stream",
     "text": [
      "C:\\Users\\deera\\AppData\\Local\\Programs\\Python\\Python310\\lib\\site-packages\\sklearn\\svm\\_base.py:284: ConvergenceWarning: Solver terminated early (max_iter=10000).  Consider pre-processing your data with StandardScaler or MinMaxScaler.\n",
      "  warnings.warn(\n"
     ]
    },
    {
     "name": "stdout",
     "output_type": "stream",
     "text": [
      "Training completed\n",
      "Time taken: 687.4806685447693\n",
      "Predictions done\n",
      "Time taken: 74.06600022315979\n"
     ]
    }
   ],
   "source": [
    "train_start = time.time()\n",
    "model = svm.SVC(kernel='poly', max_iter=10000)\n",
    "model.fit(train_X.tolist(), np.ravel(train_Y))\n",
    "train_end = time.time()\n",
    "print(\"Training completed\\nTime taken: \" + str(train_end-train_start))\n",
    "predictions = model.predict(test_X.tolist())\n",
    "print(\"Predictions done\\nTime taken: \" + str(time.time()- train_end))\n",
    "score = model.score(test_X.tolist(), test_Y.tolist())"
   ]
  },
  {
   "cell_type": "code",
   "execution_count": 11,
   "id": "0fa4e4b0",
   "metadata": {},
   "outputs": [
    {
     "name": "stdout",
     "output_type": "stream",
     "text": [
      "\n",
      "Overall accuracy: 66.63 %\n"
     ]
    }
   ],
   "source": [
    "print(\"\\nOverall accuracy: \" + str(round(score * 100, 2)) + \" %\")"
   ]
  },
  {
   "cell_type": "code",
   "execution_count": 14,
   "id": "6748dd6c",
   "metadata": {},
   "outputs": [
    {
     "name": "stdout",
     "output_type": "stream",
     "text": [
      "inference completed for the test set\n",
      "Time taken: 76.61219120025635\n"
     ]
    }
   ],
   "source": [
    "inf_file = prepare_bbc_data.out_test_file\n",
    "inf_df = pd.read_csv(inf_file)\n",
    "\n",
    "out_headers = {'article': [],\n",
    "              'summary': []}\n",
    "\n",
    "#parent_dir = preprocessing_bbc.parent\n",
    "#out_file = os.path.join(parent_dir, 'data', 'logr_results.csv')\n",
    "out_file = 'svm_results.csv'\n",
    "\n",
    "out_df = pd.DataFrame(out_headers)\n",
    "\n",
    "inf_start = time.time()\n",
    "for i in range(len(inf_df)):\n",
    "    art_txt = inf_df.at[i, 'article'].strip()\n",
    "    \n",
    "    orig_sent, prepped_sent = create_inf_sents(art_txt)\n",
    "\n",
    "    summary = []\n",
    "    for j, sent in enumerate(prepped_sent):\n",
    "        inf_X = featurize_X_from_text(sent, wv_from_text)\n",
    "        pred = model.predict(inf_X)\n",
    "        if pred[0] == 1:\n",
    "            summary.append(orig_sent[j])\n",
    "        out_df.at[i, 'article'] = art_txt\n",
    "        out_df.at[i, 'summary'] = \" \".join(summary)\n",
    "\n",
    "out_df.to_csv(out_file, index=False)\n",
    "print(\"inference completed for the test set\\nTime taken: \" + str(time.time()-inf_start))"
   ]
  }
 ],
 "metadata": {
  "kernelspec": {
   "display_name": "Python 3 (ipykernel)",
   "language": "python",
   "name": "python3"
  },
  "language_info": {
   "codemirror_mode": {
    "name": "ipython",
    "version": 3
   },
   "file_extension": ".py",
   "mimetype": "text/x-python",
   "name": "python",
   "nbconvert_exporter": "python",
   "pygments_lexer": "ipython3",
   "version": "3.10.4"
  }
 },
 "nbformat": 4,
 "nbformat_minor": 5
}
