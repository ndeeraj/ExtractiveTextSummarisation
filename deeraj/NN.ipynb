{
 "cells": [
  {
   "cell_type": "code",
   "execution_count": 25,
   "id": "b4942ef2",
   "metadata": {},
   "outputs": [],
   "source": [
    "import numpy as np\n",
    "import os.path\n",
    "from gensim.models import KeyedVectors\n",
    "import time\n",
    "from gensim.models import Word2Vec\n",
    "import string\n",
    "import train_embeddings_bbc\n",
    "import preprocessing_bbc\n",
    "import prepare_bbc_data\n",
    "import pandas as pd\n",
    "from keras.models import Sequential\n",
    "from keras.layers import Dense\n",
    "from keras.optimizers import Adam\n",
    "from keras.initializers import RandomNormal\n",
    "from keras.regularizers import L2\n",
    "from utils import create_inf_sents, featurize_X_from_text, featurize_embed_from_df"
   ]
  },
  {
   "cell_type": "code",
   "execution_count": 2,
   "id": "0752c6eb",
   "metadata": {},
   "outputs": [],
   "source": [
    "train_file = preprocessing_bbc.cleaned_train_f\n",
    "test_file = preprocessing_bbc.cleaned_test_f\n",
    "val_file = preprocessing_bbc.cleaned_val_f\n",
    "\n",
    "wv_model = train_embeddings_bbc.load_gensim(train_embeddings_bbc.model_file)\n",
    "wv_from_text = train_embeddings_bbc.load_embeddings(train_embeddings_bbc.embedding_file)"
   ]
  },
  {
   "cell_type": "code",
   "execution_count": 3,
   "id": "5a79ec1e",
   "metadata": {},
   "outputs": [],
   "source": [
    "train_data = pd.read_csv(train_file)\n",
    "test_data = pd.read_csv(test_file)\n",
    "val_data = pd.read_csv(val_file)"
   ]
  },
  {
   "cell_type": "code",
   "execution_count": 4,
   "id": "d6b98ae5",
   "metadata": {},
   "outputs": [],
   "source": [
    "EMBED_SIZE = train_embeddings_bbc.EMBEDDINGS_SIZE"
   ]
  },
  {
   "cell_type": "code",
   "execution_count": 5,
   "id": "9cdf8fb8",
   "metadata": {},
   "outputs": [],
   "source": [
    "MAX_WORD_SIZE = preprocessing_bbc.MAX_THRESH"
   ]
  },
  {
   "cell_type": "code",
   "execution_count": 6,
   "id": "bfc4e4ad",
   "metadata": {},
   "outputs": [],
   "source": [
    "train_X = np.zeros((len(train_data), (EMBED_SIZE * MAX_WORD_SIZE)))\n",
    "test_X = np.zeros((len(test_data), (EMBED_SIZE * MAX_WORD_SIZE)))\n",
    "val_X = np.zeros((len(val_data), (EMBED_SIZE * MAX_WORD_SIZE)))\n",
    "\n",
    "train_Y = np.zeros((len(train_data), 1))\n",
    "test_Y = np.zeros((len(test_data), 1))\n",
    "val_Y = np.zeros((len(val_data), 1))"
   ]
  },
  {
   "cell_type": "code",
   "execution_count": 7,
   "id": "b3829ddb",
   "metadata": {},
   "outputs": [
    {
     "name": "stdout",
     "output_type": "stream",
     "text": [
      "(32722, 3250)\n",
      "(3872, 3250)\n",
      "(4725, 3250)\n"
     ]
    }
   ],
   "source": [
    "print(train_X.shape)\n",
    "print(test_X.shape)\n",
    "print(val_X.shape)"
   ]
  },
  {
   "cell_type": "code",
   "execution_count": 8,
   "id": "af318ac6",
   "metadata": {},
   "outputs": [],
   "source": [
    "featurize_embed_from_df(train_data, train_X, train_Y, wv_from_text)\n",
    "featurize_embed_from_df(test_data, test_X, test_Y, wv_from_text)\n",
    "featurize_embed_from_df(val_data, val_X, val_Y, wv_from_text)"
   ]
  },
  {
   "cell_type": "code",
   "execution_count": 9,
   "id": "bf6b265d",
   "metadata": {},
   "outputs": [
    {
     "name": "stdout",
     "output_type": "stream",
     "text": [
      "(32722, 3250)\n",
      "(3872, 3250)\n",
      "(4725, 3250)\n",
      "(32722, 1)\n",
      "(3872, 1)\n",
      "(4725, 1)\n"
     ]
    }
   ],
   "source": [
    "print(train_X.shape)\n",
    "print(test_X.shape)\n",
    "print(val_X.shape)\n",
    "\n",
    "print(train_Y.shape)\n",
    "print(test_Y.shape)\n",
    "print(val_Y.shape)"
   ]
  },
  {
   "cell_type": "code",
   "execution_count": 50,
   "id": "ade4d353",
   "metadata": {},
   "outputs": [],
   "source": [
    "# Define the model architecture using Keras Sequential API\n",
    "class NNModel:\n",
    "    '''\n",
    "    Initizializes a 3 layer model with activation functions as \n",
    "    softmax at the final layer and relu for other layers.\n",
    "    \n",
    "    Uses Adam optimizer and cross entropy loss.\n",
    "    '''\n",
    "    def __init__(self, hidden_dim, feature_dim, output_size):\n",
    "        if output_size <= 0 or output_size is None:\n",
    "            raise Exception(\"output size is required to create the model.\")\n",
    "        if feature_dim <= 0 or feature_dim is None:\n",
    "            raise Exception(\"feature dim mut be specified.\")\n",
    "        model = Sequential()\n",
    "        for dim in hidden_dim:\n",
    "            model.add(Dense(dim, input_dim=feature_dim, \n",
    "                            activation='relu',\n",
    "                            kernel_initializer=RandomNormal(stddev=0.01),\n",
    "                            kernel_regularizer=L2(0.5),\n",
    "                           ))\n",
    "    \n",
    "        model.add(Dense(output_size, \n",
    "                        activation=\"softmax\",\n",
    "                        kernel_initializer=RandomNormal(stddev=0.01),\n",
    "                        kernel_regularizer=L2(0.5),\n",
    "                       ))\n",
    "        self.model = model\n",
    "        print(model.summary())\n",
    "    \n",
    "    def train(self, trainX, trainY, valX, valY, num_epochs=10, b_size=200, optim=None):\n",
    "        model = self.model\n",
    "        if optim is None:\n",
    "            optim = Adam(learning_rate=0.2)\n",
    "        model.compile(loss=\"binary_crossentropy\", optimizer=optim, metrics=[\"accuracy\"])\n",
    "        history = model.fit(trainX, trainY, batch_size=b_size, epochs=num_epochs, verbose=1, validation_data=(valX, valY), shuffle=True, validation_batch_size=b_size)\n",
    "        #history = model.fit(trainX, trainY, batch_size=b_size, epochs=num_epochs, verbose=1, shuffle=True, validation_batch_size=b_size)\n",
    "        return history\n",
    "    \n",
    "    def test_batch(self, testX):\n",
    "        '''\n",
    "        gets predictions for a batch of results.\n",
    "        '''\n",
    "        model = self.model\n",
    "        predictions = model.predict(testX)\n",
    "        return predictions\n",
    "    \n",
    "    def test_single(self, testX):\n",
    "        '''\n",
    "        gets prediction for a single instance\n",
    "        '''\n",
    "        model = self.model\n",
    "        predictions = model([np.array(testX).reshape(1,-1)], training=False).numpy()\n",
    "        return predictions"
   ]
  },
  {
   "cell_type": "code",
   "execution_count": 51,
   "id": "5ded3164",
   "metadata": {},
   "outputs": [
    {
     "name": "stdout",
     "output_type": "stream",
     "text": [
      "Model: \"sequential_20\"\n",
      "_________________________________________________________________\n",
      " Layer (type)                Output Shape              Param #   \n",
      "=================================================================\n",
      " dense_46 (Dense)            (None, 64)                208064    \n",
      "                                                                 \n",
      " dense_47 (Dense)            (None, 32)                2080      \n",
      "                                                                 \n",
      " dense_48 (Dense)            (None, 1)                 33        \n",
      "                                                                 \n",
      "=================================================================\n",
      "Total params: 210,177\n",
      "Trainable params: 210,177\n",
      "Non-trainable params: 0\n",
      "_________________________________________________________________\n",
      "None\n",
      "Epoch 1/50\n",
      "110/110 [==============================] - 1s 5ms/step - loss: 149.2419 - accuracy: 0.4201 - val_loss: 0.7001 - val_accuracy: 0.4210\n",
      "Epoch 2/50\n",
      "110/110 [==============================] - 0s 4ms/step - loss: 0.6843 - accuracy: 0.4201 - val_loss: 0.6893 - val_accuracy: 0.4210\n",
      "Epoch 3/50\n",
      "110/110 [==============================] - 0s 4ms/step - loss: 0.6816 - accuracy: 0.4201 - val_loss: 0.6806 - val_accuracy: 0.4210\n",
      "Epoch 4/50\n",
      "110/110 [==============================] - 0s 4ms/step - loss: 0.6812 - accuracy: 0.4201 - val_loss: 0.6806 - val_accuracy: 0.4210\n",
      "Epoch 5/50\n",
      "110/110 [==============================] - 0s 4ms/step - loss: 0.6813 - accuracy: 0.4201 - val_loss: 0.6813 - val_accuracy: 0.4210\n",
      "Epoch 6/50\n",
      "110/110 [==============================] - 0s 4ms/step - loss: 0.6808 - accuracy: 0.4201 - val_loss: 0.6808 - val_accuracy: 0.4210\n",
      "Epoch 7/50\n",
      "110/110 [==============================] - 0s 4ms/step - loss: 0.6818 - accuracy: 0.4201 - val_loss: 0.6811 - val_accuracy: 0.4210\n",
      "Epoch 8/50\n",
      "110/110 [==============================] - 0s 4ms/step - loss: 0.6824 - accuracy: 0.4201 - val_loss: 0.6831 - val_accuracy: 0.4210\n",
      "Epoch 9/50\n",
      "110/110 [==============================] - 0s 4ms/step - loss: 0.6824 - accuracy: 0.4201 - val_loss: 0.6840 - val_accuracy: 0.4210\n",
      "Epoch 10/50\n",
      "110/110 [==============================] - 0s 4ms/step - loss: 0.6848 - accuracy: 0.4201 - val_loss: 0.6814 - val_accuracy: 0.4210\n",
      "Epoch 11/50\n",
      "110/110 [==============================] - 0s 4ms/step - loss: 0.6831 - accuracy: 0.4201 - val_loss: 0.6814 - val_accuracy: 0.4210\n",
      "Epoch 12/50\n",
      "110/110 [==============================] - 0s 4ms/step - loss: 0.6836 - accuracy: 0.4201 - val_loss: 0.6834 - val_accuracy: 0.4210\n",
      "Epoch 13/50\n",
      "110/110 [==============================] - 0s 4ms/step - loss: 0.6835 - accuracy: 0.4201 - val_loss: 0.6865 - val_accuracy: 0.4210\n",
      "Epoch 14/50\n",
      "110/110 [==============================] - 0s 4ms/step - loss: 0.6869 - accuracy: 0.4201 - val_loss: 0.6866 - val_accuracy: 0.4210\n",
      "Epoch 15/50\n",
      "110/110 [==============================] - 0s 4ms/step - loss: 0.6883 - accuracy: 0.4201 - val_loss: 0.6857 - val_accuracy: 0.4210\n",
      "Epoch 16/50\n",
      "110/110 [==============================] - 0s 4ms/step - loss: 0.6971 - accuracy: 0.4201 - val_loss: 0.7152 - val_accuracy: 0.4210\n",
      "Epoch 17/50\n",
      "110/110 [==============================] - 0s 4ms/step - loss: 0.8815 - accuracy: 0.4201 - val_loss: 1.3187 - val_accuracy: 0.4210\n",
      "Epoch 18/50\n",
      "110/110 [==============================] - 0s 4ms/step - loss: 4.9223 - accuracy: 0.4201 - val_loss: 5.2267 - val_accuracy: 0.4210\n",
      "Epoch 19/50\n",
      "110/110 [==============================] - 0s 4ms/step - loss: 9.9636 - accuracy: 0.4201 - val_loss: 21.8834 - val_accuracy: 0.4210\n",
      "Epoch 20/50\n",
      "110/110 [==============================] - 0s 4ms/step - loss: 10.3725 - accuracy: 0.4201 - val_loss: 1.9744 - val_accuracy: 0.4210\n",
      "Epoch 21/50\n",
      "110/110 [==============================] - 0s 4ms/step - loss: 1.4976 - accuracy: 0.4201 - val_loss: 1.3948 - val_accuracy: 0.4210\n",
      "Epoch 22/50\n",
      "110/110 [==============================] - 0s 4ms/step - loss: 1.7069 - accuracy: 0.4201 - val_loss: 1.9720 - val_accuracy: 0.4210\n",
      "Epoch 23/50\n",
      "110/110 [==============================] - 0s 4ms/step - loss: 2.1045 - accuracy: 0.4201 - val_loss: 2.1912 - val_accuracy: 0.4210\n",
      "Epoch 24/50\n",
      "110/110 [==============================] - 0s 4ms/step - loss: 2.2569 - accuracy: 0.4201 - val_loss: 2.4568 - val_accuracy: 0.4210\n",
      "Epoch 25/50\n",
      "110/110 [==============================] - 0s 4ms/step - loss: 2.5116 - accuracy: 0.4201 - val_loss: 2.6634 - val_accuracy: 0.4210\n",
      "Epoch 26/50\n",
      "110/110 [==============================] - 0s 4ms/step - loss: 2.6906 - accuracy: 0.4201 - val_loss: 2.5780 - val_accuracy: 0.4210\n",
      "Epoch 27/50\n",
      "110/110 [==============================] - 0s 4ms/step - loss: 2.7428 - accuracy: 0.4201 - val_loss: 3.2052 - val_accuracy: 0.4210\n",
      "Epoch 28/50\n",
      "110/110 [==============================] - 0s 4ms/step - loss: 4.2637 - accuracy: 0.4201 - val_loss: 6.6835 - val_accuracy: 0.4210\n",
      "Epoch 29/50\n",
      "110/110 [==============================] - 0s 4ms/step - loss: 9.3854 - accuracy: 0.4201 - val_loss: 9.6212 - val_accuracy: 0.4210\n",
      "Epoch 30/50\n",
      "110/110 [==============================] - 0s 4ms/step - loss: 6.3546 - accuracy: 0.4201 - val_loss: 2.6093 - val_accuracy: 0.4210\n",
      "Epoch 31/50\n",
      "110/110 [==============================] - 0s 4ms/step - loss: 2.7161 - accuracy: 0.4201 - val_loss: 2.9391 - val_accuracy: 0.4210\n",
      "Epoch 32/50\n",
      "110/110 [==============================] - 0s 4ms/step - loss: 2.5378 - accuracy: 0.4201 - val_loss: 2.5545 - val_accuracy: 0.4210\n",
      "Epoch 33/50\n",
      "110/110 [==============================] - 0s 4ms/step - loss: 2.5449 - accuracy: 0.4201 - val_loss: 2.3355 - val_accuracy: 0.4210\n",
      "Epoch 34/50\n",
      "110/110 [==============================] - 0s 4ms/step - loss: 2.6606 - accuracy: 0.4201 - val_loss: 2.7423 - val_accuracy: 0.4210\n",
      "Epoch 35/50\n",
      "110/110 [==============================] - 0s 4ms/step - loss: 2.9092 - accuracy: 0.4201 - val_loss: 3.4279 - val_accuracy: 0.4210\n",
      "Epoch 36/50\n",
      "110/110 [==============================] - 0s 4ms/step - loss: 4.5251 - accuracy: 0.4201 - val_loss: 6.1289 - val_accuracy: 0.4210\n",
      "Epoch 37/50\n",
      "110/110 [==============================] - 0s 4ms/step - loss: 7.4614 - accuracy: 0.4201 - val_loss: 6.6087 - val_accuracy: 0.4210\n",
      "Epoch 38/50\n",
      "110/110 [==============================] - 0s 4ms/step - loss: 3.3113 - accuracy: 0.4201 - val_loss: 2.3993 - val_accuracy: 0.4210\n",
      "Epoch 39/50\n",
      "110/110 [==============================] - 0s 4ms/step - loss: 2.4374 - accuracy: 0.4201 - val_loss: 2.5124 - val_accuracy: 0.4210\n",
      "Epoch 40/50\n",
      "110/110 [==============================] - 0s 4ms/step - loss: 2.3283 - accuracy: 0.4201 - val_loss: 2.4225 - val_accuracy: 0.4210\n",
      "Epoch 41/50\n",
      "110/110 [==============================] - 0s 4ms/step - loss: 2.4566 - accuracy: 0.4201 - val_loss: 2.7665 - val_accuracy: 0.4210\n",
      "Epoch 42/50\n",
      "110/110 [==============================] - 0s 4ms/step - loss: 3.3192 - accuracy: 0.4201 - val_loss: 4.3412 - val_accuracy: 0.4210\n",
      "Epoch 43/50\n",
      "110/110 [==============================] - 0s 3ms/step - loss: 5.8296 - accuracy: 0.4201 - val_loss: 6.6126 - val_accuracy: 0.4210\n",
      "Epoch 44/50\n",
      "110/110 [==============================] - 0s 3ms/step - loss: 4.7976 - accuracy: 0.4201 - val_loss: 2.5567 - val_accuracy: 0.4210\n",
      "Epoch 45/50\n",
      "110/110 [==============================] - 0s 3ms/step - loss: 2.3341 - accuracy: 0.4201 - val_loss: 2.3384 - val_accuracy: 0.4210\n",
      "Epoch 46/50\n",
      "110/110 [==============================] - 0s 3ms/step - loss: 2.3436 - accuracy: 0.4201 - val_loss: 2.2589 - val_accuracy: 0.4210\n",
      "Epoch 47/50\n",
      "110/110 [==============================] - 0s 3ms/step - loss: 2.5060 - accuracy: 0.4201 - val_loss: 2.7191 - val_accuracy: 0.4210\n",
      "Epoch 48/50\n",
      "110/110 [==============================] - 0s 3ms/step - loss: 3.6406 - accuracy: 0.4201 - val_loss: 5.1697 - val_accuracy: 0.4210\n",
      "Epoch 49/50\n",
      "110/110 [==============================] - 0s 3ms/step - loss: 5.8938 - accuracy: 0.4201 - val_loss: 5.4958 - val_accuracy: 0.4210\n",
      "Epoch 50/50\n",
      "110/110 [==============================] - 0s 3ms/step - loss: 3.4060 - accuracy: 0.4201 - val_loss: 2.2297 - val_accuracy: 0.4210\n"
     ]
    }
   ],
   "source": [
    "b_size = 300\n",
    "num_epochs = 50\n",
    "model1 = NNModel([64, 32], train_X.shape[1], 1)\n",
    "moldel1_H = model1.train(train_X, train_Y, val_X, val_Y, num_epochs=num_epochs, b_size=b_size)"
   ]
  },
  {
   "cell_type": "code",
   "execution_count": 56,
   "id": "0fa4e4b0",
   "metadata": {},
   "outputs": [],
   "source": [
    "def accuracy(y, y_hat):\n",
    "    \"\"\"\n",
    "    Measure the accuracy of our model, print the results.\n",
    "    Parameters:\n",
    "    y (array): true labels\n",
    "    y (array): model estimates\n",
    "    Returns:\n",
    "    None\n",
    "    \"\"\"\n",
    "    count = 0\n",
    "    for i in range(len(y)):\n",
    "        guess = 1 if y_hat[i] > 0.5 else 0\n",
    "        if guess == y[i]:\n",
    "            count += 1\n",
    "    print(\"Accuracy:\", round((count / y.shape[0]) * 100, 2))"
   ]
  },
  {
   "cell_type": "code",
   "execution_count": 57,
   "id": "a3806f47",
   "metadata": {},
   "outputs": [
    {
     "name": "stdout",
     "output_type": "stream",
     "text": [
      "121/121 [==============================] - 0s 633us/step\n",
      "Accuracy: 41.89\n"
     ]
    }
   ],
   "source": [
    "pred = model1.test_batch(test_X)\n",
    "accuracy(test_Y, pred.reshape(test_Y.shape))"
   ]
  },
  {
   "cell_type": "code",
   "execution_count": 58,
   "id": "6748dd6c",
   "metadata": {},
   "outputs": [
    {
     "name": "stdout",
     "output_type": "stream",
     "text": [
      "inference completed for the test set\n",
      "Time taken: 4.753982067108154\n"
     ]
    }
   ],
   "source": [
    "inf_file = prepare_bbc_data.out_test_file\n",
    "inf_df = pd.read_csv(inf_file)\n",
    "\n",
    "out_headers = {'article': [],\n",
    "              'summary': []}\n",
    "\n",
    "#parent_dir = preprocessing_bbc.parent\n",
    "#out_file = os.path.join(parent_dir, 'data', 'logr_results.csv')\n",
    "out_file = 'NN_results.csv'\n",
    "\n",
    "out_df = pd.DataFrame(out_headers)\n",
    "\n",
    "inf_start = time.time()\n",
    "for i in range(len(inf_df)):\n",
    "    art_txt = inf_df.at[i, 'article'].strip()\n",
    "    \n",
    "    orig_sent, prepped_sent = create_inf_sents(art_txt)\n",
    "\n",
    "    summary = []\n",
    "    for j, sent in enumerate(prepped_sent):\n",
    "        inf_X = featurize_X_from_text(sent, wv_from_text)\n",
    "        pred = model1.test_single(inf_X)\n",
    "        if pred[0] > 0.5:\n",
    "            summary.append(orig_sent[j])\n",
    "    out_df.at[i, 'article'] = art_txt\n",
    "    out_df.at[i, 'summary'] = \" \".join(summary)\n",
    "\n",
    "out_df.to_csv(out_file, index=False)\n",
    "print(\"inference completed for the test set\\nTime taken: \" + str(time.time()-inf_start))"
   ]
  }
 ],
 "metadata": {
  "kernelspec": {
   "display_name": "Python 3 (ipykernel)",
   "language": "python",
   "name": "python3"
  },
  "language_info": {
   "codemirror_mode": {
    "name": "ipython",
    "version": 3
   },
   "file_extension": ".py",
   "mimetype": "text/x-python",
   "name": "python",
   "nbconvert_exporter": "python",
   "pygments_lexer": "ipython3",
   "version": "3.10.4"
  }
 },
 "nbformat": 4,
 "nbformat_minor": 5
}
